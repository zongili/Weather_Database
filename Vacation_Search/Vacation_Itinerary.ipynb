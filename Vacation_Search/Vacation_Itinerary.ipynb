{
 "cells": [
  {
   "cell_type": "markdown",
   "metadata": {},
   "source": [
    "## Deliverable 3. Create a Travel Itinerary Map."
   ]
  },
  {
   "cell_type": "code",
   "execution_count": 1,
   "metadata": {},
   "outputs": [],
   "source": [
    "# Dependencies and Setup\n",
    "import pandas as pd\n",
    "import requests\n",
    "import gmaps\n",
    "\n",
    "# Import API key\n",
    "from config import gkey\n",
    "\n",
    "# Configure gmaps\n",
    "gmaps.configure(api_key=gkey)"
   ]
  },
  {
   "cell_type": "code",
   "execution_count": 4,
   "metadata": {},
   "outputs": [
    {
     "data": {
      "text/html": [
       "<div>\n",
       "<style scoped>\n",
       "    .dataframe tbody tr th:only-of-type {\n",
       "        vertical-align: middle;\n",
       "    }\n",
       "\n",
       "    .dataframe tbody tr th {\n",
       "        vertical-align: top;\n",
       "    }\n",
       "\n",
       "    .dataframe thead th {\n",
       "        text-align: right;\n",
       "    }\n",
       "</style>\n",
       "<table border=\"1\" class=\"dataframe\">\n",
       "  <thead>\n",
       "    <tr style=\"text-align: right;\">\n",
       "      <th></th>\n",
       "      <th>City_ID</th>\n",
       "      <th>City</th>\n",
       "      <th>Country</th>\n",
       "      <th>Max Temp</th>\n",
       "      <th>Current Description</th>\n",
       "      <th>Lat</th>\n",
       "      <th>Lng</th>\n",
       "      <th>Hotel Name</th>\n",
       "    </tr>\n",
       "  </thead>\n",
       "  <tbody>\n",
       "    <tr>\n",
       "      <th>0</th>\n",
       "      <td>1</td>\n",
       "      <td>Emerald</td>\n",
       "      <td>AU</td>\n",
       "      <td>76.33</td>\n",
       "      <td>clear sky</td>\n",
       "      <td>-23.5333</td>\n",
       "      <td>148.1667</td>\n",
       "      <td>The Irish Village</td>\n",
       "    </tr>\n",
       "    <tr>\n",
       "      <th>1</th>\n",
       "      <td>13</td>\n",
       "      <td>Bairiki</td>\n",
       "      <td>KI</td>\n",
       "      <td>84.20</td>\n",
       "      <td>scattered clouds</td>\n",
       "      <td>1.3292</td>\n",
       "      <td>172.9752</td>\n",
       "      <td>Tarawa Boutique Hotel</td>\n",
       "    </tr>\n",
       "    <tr>\n",
       "      <th>2</th>\n",
       "      <td>17</td>\n",
       "      <td>Samarai</td>\n",
       "      <td>PG</td>\n",
       "      <td>81.66</td>\n",
       "      <td>few clouds</td>\n",
       "      <td>-10.6167</td>\n",
       "      <td>150.6667</td>\n",
       "      <td>Nuli Sapi</td>\n",
       "    </tr>\n",
       "    <tr>\n",
       "      <th>3</th>\n",
       "      <td>19</td>\n",
       "      <td>Semporna</td>\n",
       "      <td>MY</td>\n",
       "      <td>77.20</td>\n",
       "      <td>overcast clouds</td>\n",
       "      <td>4.4818</td>\n",
       "      <td>118.6112</td>\n",
       "      <td>Han Palace Hotel, Semporna, Sabah.</td>\n",
       "    </tr>\n",
       "    <tr>\n",
       "      <th>4</th>\n",
       "      <td>27</td>\n",
       "      <td>Muisne</td>\n",
       "      <td>EC</td>\n",
       "      <td>77.11</td>\n",
       "      <td>overcast clouds</td>\n",
       "      <td>0.6000</td>\n",
       "      <td>-80.0333</td>\n",
       "      <td>Quinta Samay</td>\n",
       "    </tr>\n",
       "  </tbody>\n",
       "</table>\n",
       "</div>"
      ],
      "text/plain": [
       "   City_ID      City Country  Max Temp Current Description      Lat       Lng  \\\n",
       "0        1   Emerald      AU     76.33           clear sky -23.5333  148.1667   \n",
       "1       13   Bairiki      KI     84.20    scattered clouds   1.3292  172.9752   \n",
       "2       17   Samarai      PG     81.66          few clouds -10.6167  150.6667   \n",
       "3       19  Semporna      MY     77.20     overcast clouds   4.4818  118.6112   \n",
       "4       27    Muisne      EC     77.11     overcast clouds   0.6000  -80.0333   \n",
       "\n",
       "                           Hotel Name  \n",
       "0                   The Irish Village  \n",
       "1               Tarawa Boutique Hotel  \n",
       "2                           Nuli Sapi  \n",
       "3  Han Palace Hotel, Semporna, Sabah.  \n",
       "4                        Quinta Samay  "
      ]
     },
     "execution_count": 4,
     "metadata": {},
     "output_type": "execute_result"
    }
   ],
   "source": [
    "# 1. Read the WeatherPy_vacation.csv into a DataFrame.\n",
    "vacation_df = pd.read_csv(\"../Vacation_Search/WeatherPy_vacation.csv\")\n",
    "vacation_df.head()"
   ]
  },
  {
   "cell_type": "code",
   "execution_count": 61,
   "metadata": {},
   "outputs": [],
   "source": [
    "# 2. Using the template add the city name, the country code, the weather description and maximum temperature for the city.\n",
    "info_box_template = \"\"\"\n",
    "<dt>Hotel Name</dt><dd>{Hotel Name}</dd>\n",
    "<dt>City</dt><dd>{City}</dd>\n",
    "<dt>Country</dt><dd>{Country}</dd>\n",
    "<dt>Current Weather</dt><dd>{Current Description} °F</dd>\n",
    "</dl>\n",
    "\"\"\"\n",
    "\n",
    "# 3a. Get the data from each row and add it to the formatting template and store the data in a list.\n",
    "hotel_info = [info_box_template.format(**row) for index, row in vacation_df.iterrows()]\n",
    "\n",
    "# 3b. Get the latitude and longitude from each row and store in a new DataFrame.\n",
    "locations = vacation_df[[\"Lat\", \"Lng\"]]\n",
    "max_temp = vacation_df[\"Max Temp\"]\n"
   ]
  },
  {
   "cell_type": "code",
   "execution_count": 8,
   "metadata": {},
   "outputs": [
    {
     "data": {
      "application/vnd.jupyter.widget-view+json": {
       "model_id": "16459dfbc05940d3a65883f9a05091bb",
       "version_major": 2,
       "version_minor": 0
      },
      "text/plain": [
       "Figure(layout=FigureLayout(height='420px'))"
      ]
     },
     "metadata": {},
     "output_type": "display_data"
    }
   ],
   "source": [
    "# 4a. Add a marker layer for each city to the map.\n",
    "fig = gmaps.figure(center=(30.0, 31.0), zoom_level=1.5)\n",
    "heat_layer = gmaps.heatmap_layer(locations, weights=max_temp,dissipating=False, max_intensity=300, point_radius=4)\n",
    "marker_layer = gmaps.marker_layer(locations, info_box_content=hotel_info)\n",
    "fig.add_layer(heat_layer)\n",
    "fig.add_layer(marker_layer)\n",
    "\n",
    "# 4b. Display the figure\n",
    "\n",
    "fig"
   ]
  },
  {
   "cell_type": "code",
   "execution_count": 42,
   "metadata": {},
   "outputs": [
    {
     "data": {
      "text/html": [
       "<div>\n",
       "<style scoped>\n",
       "    .dataframe tbody tr th:only-of-type {\n",
       "        vertical-align: middle;\n",
       "    }\n",
       "\n",
       "    .dataframe tbody tr th {\n",
       "        vertical-align: top;\n",
       "    }\n",
       "\n",
       "    .dataframe thead th {\n",
       "        text-align: right;\n",
       "    }\n",
       "</style>\n",
       "<table border=\"1\" class=\"dataframe\">\n",
       "  <thead>\n",
       "    <tr style=\"text-align: right;\">\n",
       "      <th></th>\n",
       "      <th>City_ID</th>\n",
       "      <th>City</th>\n",
       "      <th>Country</th>\n",
       "      <th>Max Temp</th>\n",
       "      <th>Current Description</th>\n",
       "      <th>Lat</th>\n",
       "      <th>Lng</th>\n",
       "      <th>Hotel Name</th>\n",
       "    </tr>\n",
       "  </thead>\n",
       "  <tbody>\n",
       "    <tr>\n",
       "      <th>56</th>\n",
       "      <td>180</td>\n",
       "      <td>Hervey Bay</td>\n",
       "      <td>AU</td>\n",
       "      <td>77.11</td>\n",
       "      <td>clear sky</td>\n",
       "      <td>-25.2986</td>\n",
       "      <td>152.8535</td>\n",
       "      <td>Shelly Bay Resort</td>\n",
       "    </tr>\n",
       "  </tbody>\n",
       "</table>\n",
       "</div>"
      ],
      "text/plain": [
       "    City_ID        City Country  Max Temp Current Description      Lat  \\\n",
       "56      180  Hervey Bay      AU     77.11           clear sky -25.2986   \n",
       "\n",
       "         Lng         Hotel Name  \n",
       "56  152.8535  Shelly Bay Resort  "
      ]
     },
     "execution_count": 42,
     "metadata": {},
     "output_type": "execute_result"
    }
   ],
   "source": [
    "# From the map above pick 4 cities and create a vacation itinerary route to travel between the four cities. \n",
    "# 5. Create DataFrames for each city by filtering the 'vacation_df' using the loc method. \n",
    "# Hint: The starting and ending city should be the same city.\n",
    "# vacation_df.dtypes\n",
    "vacation_start =  vacation_df.loc[vacation_df[\"City\"] ==\"Port Macquarie\"]\n",
    "# vacation_df.loc[vacation_df[\"Country\"]==\"AU\"] &\n",
    "vacation_start=vacation_df.loc[vacation_df[\"Hotel Name\"] == \"Rydges Port Macquarie\"]\n",
    "vacation_end = vacation_start\n",
    "vacation_stop1 = vacation_df.loc[vacation_df[\"City\"] ==\"Byron Bay\" ]\n",
    "vacation_stop1 = vacation_df.loc[vacation_df[\"Hotel Name\"] == \"Backpackers Inn\"]\n",
    "# vacation_stop1\n",
    "vacation_stop2 = vacation_df.loc[vacation_df[\"City\"] ==\"Victoria Point\"]\n",
    "vacation_stop2 = vacation_df.loc[vacation_df[\"Hotel Name\"] == \"Bay Retreat Motel\"]\n",
    "vacation_stop3 = vacation_df.loc[vacation_df[\"City\"] ==\"Hervey Bay\"]\n",
    "vacation_stop3 = vacation_df.loc[vacation_df[\"Hotel Name\"] == \"Shelly Bay Resort\"]\n",
    "vacation_stop3\n"
   ]
  },
  {
   "cell_type": "code",
   "execution_count": 100,
   "metadata": {},
   "outputs": [
    {
     "name": "stdout",
     "output_type": "stream",
     "text": [
      "[(-31.4333, 152.9167)] [(-28.65, 153.6167)] [(-27.5833, 153.3)] [(-25.2986, 152.8535)]\n"
     ]
    }
   ],
   "source": [
    "# 6. Get the latitude-longitude pairs as tuples from each city DataFrame using the to_numpy function and list indexing.\n",
    "# import numpy as np\n",
    "# #select a specific set of columns to convert as tuples\n",
    "# start = [tuple(r) for r in vacation_start[['Lat', 'Lng']].to_numpy()]\n",
    "# end = start\n",
    "# stop1 = [tuple(r) for r in vacation_stop1[['Lat', 'Lng']].to_numpy()]\n",
    "# stop2 = [tuple(r) for r in vacation_stop2[['Lat', 'Lng']].to_numpy()]\n",
    "# stop3 = [tuple(r) for r in vacation_stop3[['Lat', 'Lng']].to_numpy()]\n",
    "# print (start,stop1, stop2, stop3)"
   ]
  },
  {
   "cell_type": "code",
   "execution_count": 151,
   "metadata": {},
   "outputs": [
    {
     "name": "stdout",
     "output_type": "stream",
     "text": [
      "(-31.4333, 152.9167) (-28.65, 153.6167) (-27.5833, 153.3) (-25.2986, 152.8535)\n"
     ]
    }
   ],
   "source": [
    "# 6. Get the latitude-longitude pairs as tuples from each city DataFrame using the to_numpy function and list indexing.\n",
    "import numpy as np\n",
    "#select a specific set of columns to convert as tuples\n",
    "start =vacation_start[\"Lat\"].to_numpy()[0], vacation_start[\"Lng\"].to_numpy()[0]\n",
    "end = start\n",
    "stop1 =vacation_stop1[\"Lat\"].to_numpy()[0], vacation_stop1[\"Lng\"].to_numpy()[0]\n",
    "stop2 =vacation_stop2[\"Lat\"].to_numpy()[0], vacation_stop2[\"Lng\"].to_numpy()[0]\n",
    "stop3 =vacation_stop3[\"Lat\"].to_numpy()[0], vacation_stop3[\"Lng\"].to_numpy()[0]\n",
    "print (start,stop1, stop2, stop3)"
   ]
  },
  {
   "cell_type": "code",
   "execution_count": 139,
   "metadata": {
    "scrolled": true
   },
   "outputs": [],
   "source": [
    "# 7. Create a direction layer map using the start and end latitude-longitude pairs,\n",
    "# and stop1, stop2, and stop3 as the waypoints. The travel_mode should be \"DRIVING\", \"BICYCLING\", or \"WALKING\".\n",
    "direction_layer = gmaps.directions_layer(start, end, waypoints=[stop1,stop2,stop3], travel_mode='BICYCLING')\n"
   ]
  },
  {
   "cell_type": "code",
   "execution_count": 142,
   "metadata": {},
   "outputs": [
    {
     "data": {
      "text/html": [
       "<div>\n",
       "<style scoped>\n",
       "    .dataframe tbody tr th:only-of-type {\n",
       "        vertical-align: middle;\n",
       "    }\n",
       "\n",
       "    .dataframe tbody tr th {\n",
       "        vertical-align: top;\n",
       "    }\n",
       "\n",
       "    .dataframe thead th {\n",
       "        text-align: right;\n",
       "    }\n",
       "</style>\n",
       "<table border=\"1\" class=\"dataframe\">\n",
       "  <thead>\n",
       "    <tr style=\"text-align: right;\">\n",
       "      <th></th>\n",
       "      <th>City_ID</th>\n",
       "      <th>City</th>\n",
       "      <th>Country</th>\n",
       "      <th>Max Temp</th>\n",
       "      <th>Current Description</th>\n",
       "      <th>Lat</th>\n",
       "      <th>Lng</th>\n",
       "      <th>Hotel Name</th>\n",
       "    </tr>\n",
       "  </thead>\n",
       "  <tbody>\n",
       "    <tr>\n",
       "      <th>0</th>\n",
       "      <td>293</td>\n",
       "      <td>Port Macquarie</td>\n",
       "      <td>AU</td>\n",
       "      <td>80.89</td>\n",
       "      <td>overcast clouds</td>\n",
       "      <td>-31.4333</td>\n",
       "      <td>152.9167</td>\n",
       "      <td>Rydges Port Macquarie</td>\n",
       "    </tr>\n",
       "    <tr>\n",
       "      <th>1</th>\n",
       "      <td>679</td>\n",
       "      <td>Byron Bay</td>\n",
       "      <td>AU</td>\n",
       "      <td>80.71</td>\n",
       "      <td>scattered clouds</td>\n",
       "      <td>-28.6500</td>\n",
       "      <td>153.6167</td>\n",
       "      <td>Backpackers Inn</td>\n",
       "    </tr>\n",
       "    <tr>\n",
       "      <th>2</th>\n",
       "      <td>167</td>\n",
       "      <td>Victoria Point</td>\n",
       "      <td>AU</td>\n",
       "      <td>80.29</td>\n",
       "      <td>few clouds</td>\n",
       "      <td>-27.5833</td>\n",
       "      <td>153.3000</td>\n",
       "      <td>Bay Retreat Motel</td>\n",
       "    </tr>\n",
       "    <tr>\n",
       "      <th>3</th>\n",
       "      <td>180</td>\n",
       "      <td>Hervey Bay</td>\n",
       "      <td>AU</td>\n",
       "      <td>77.11</td>\n",
       "      <td>clear sky</td>\n",
       "      <td>-25.2986</td>\n",
       "      <td>152.8535</td>\n",
       "      <td>Shelly Bay Resort</td>\n",
       "    </tr>\n",
       "    <tr>\n",
       "      <th>4</th>\n",
       "      <td>293</td>\n",
       "      <td>Port Macquarie</td>\n",
       "      <td>AU</td>\n",
       "      <td>80.89</td>\n",
       "      <td>overcast clouds</td>\n",
       "      <td>-31.4333</td>\n",
       "      <td>152.9167</td>\n",
       "      <td>Rydges Port Macquarie</td>\n",
       "    </tr>\n",
       "  </tbody>\n",
       "</table>\n",
       "</div>"
      ],
      "text/plain": [
       "   City_ID            City Country  Max Temp Current Description      Lat  \\\n",
       "0      293  Port Macquarie      AU     80.89     overcast clouds -31.4333   \n",
       "1      679       Byron Bay      AU     80.71    scattered clouds -28.6500   \n",
       "2      167  Victoria Point      AU     80.29          few clouds -27.5833   \n",
       "3      180      Hervey Bay      AU     77.11           clear sky -25.2986   \n",
       "4      293  Port Macquarie      AU     80.89     overcast clouds -31.4333   \n",
       "\n",
       "        Lng             Hotel Name  \n",
       "0  152.9167  Rydges Port Macquarie  \n",
       "1  153.6167        Backpackers Inn  \n",
       "2  153.3000      Bay Retreat Motel  \n",
       "3  152.8535      Shelly Bay Resort  \n",
       "4  152.9167  Rydges Port Macquarie  "
      ]
     },
     "execution_count": 142,
     "metadata": {},
     "output_type": "execute_result"
    }
   ],
   "source": [
    "# 8. To create a marker layer map between the four cities.\n",
    "#  Combine the four city DataFrames into one DataFrame using the concat() function.\n",
    "itinerary_df = pd.concat([vacation_start, vacation_stop1, vacation_stop2, vacation_stop3,vacation_end],ignore_index=True)\n",
    "itinerary_df"
   ]
  },
  {
   "cell_type": "code",
   "execution_count": 148,
   "metadata": {},
   "outputs": [
    {
     "data": {
      "text/plain": [
       "['\\n<dt>Hotel Name</dt><dd>Rydges Port Macquarie</dd>\\n<dt>City</dt><dd>Port Macquarie</dd>\\n<dt>Country</dt><dd>AU</dd>\\n<dt>Current Weather</dt><dd>overcast clouds 80.89°F</dd>\\n</dl>\\n',\n",
       " '\\n<dt>Hotel Name</dt><dd>Backpackers Inn</dd>\\n<dt>City</dt><dd>Byron Bay</dd>\\n<dt>Country</dt><dd>AU</dd>\\n<dt>Current Weather</dt><dd>scattered clouds 80.71°F</dd>\\n</dl>\\n',\n",
       " '\\n<dt>Hotel Name</dt><dd>Bay Retreat Motel</dd>\\n<dt>City</dt><dd>Victoria Point</dd>\\n<dt>Country</dt><dd>AU</dd>\\n<dt>Current Weather</dt><dd>few clouds 80.29°F</dd>\\n</dl>\\n',\n",
       " '\\n<dt>Hotel Name</dt><dd>Shelly Bay Resort</dd>\\n<dt>City</dt><dd>Hervey Bay</dd>\\n<dt>Country</dt><dd>AU</dd>\\n<dt>Current Weather</dt><dd>clear sky 77.11°F</dd>\\n</dl>\\n',\n",
       " '\\n<dt>Hotel Name</dt><dd>Rydges Port Macquarie</dd>\\n<dt>City</dt><dd>Port Macquarie</dd>\\n<dt>Country</dt><dd>AU</dd>\\n<dt>Current Weather</dt><dd>overcast clouds 80.89°F</dd>\\n</dl>\\n']"
      ]
     },
     "execution_count": 148,
     "metadata": {},
     "output_type": "execute_result"
    }
   ],
   "source": [
    "# 9 Using the template add city name, the country code, the weather description and maximum temperature for the city. \n",
    "#\n",
    "# Each marker has the following information: (5 pt)\n",
    "# Hotel name\n",
    "# City\n",
    "# Country\n",
    "# Current weather description with the maximum temperature\n",
    "#\n",
    "info_box_template = \"\"\"\n",
    "<dt>Hotel Name</dt><dd>{Hotel Name}</dd>\n",
    "<dt>City</dt><dd>{City}</dd>\n",
    "<dt>Country</dt><dd>{Country}</dd>\n",
    "<dt>Current Weather</dt><dd>{Current Description} {Max Temp}°F</dd>\n",
    "</dl>\n",
    "\"\"\"\n",
    "# <dt><Max Temp</dt><dd>{Max Temp}</dd>\n",
    "# 10a Get the data from each row and add it to the formatting template and store the data in a list.\n",
    "hotel_info = [info_box_template.format(**row) for index, row in itinerary_df.iterrows()]\n",
    "\n",
    "# 10b. Get the latitude and longitude from each row and store in a new DataFrame.\n",
    "locations = itinerary_df[[\"Lat\", \"Lng\"]]\n",
    "hotel_info"
   ]
  },
  {
   "cell_type": "code",
   "execution_count": 149,
   "metadata": {},
   "outputs": [
    {
     "data": {
      "application/vnd.jupyter.widget-view+json": {
       "model_id": "0a1892d055b34b7e834e8db630e3dfda",
       "version_major": 2,
       "version_minor": 0
      },
      "text/plain": [
       "Figure(layout=FigureLayout(height='420px'))"
      ]
     },
     "metadata": {},
     "output_type": "display_data"
    }
   ],
   "source": [
    "# 11a. Add a marker layer for each city to the map.\n",
    "fig = gmaps.figure(center=(30.0, 31.0), zoom_level=2)\n",
    "marker_layer = gmaps.marker_layer(locations, info_box_content=hotel_info)\n",
    "\n",
    "fig.add_layer(marker_layer)\n",
    "# fig.add_layer(direction_layer)\n",
    "# 11b. Display the figure\n",
    "fig"
   ]
  },
  {
   "cell_type": "code",
   "execution_count": null,
   "metadata": {},
   "outputs": [],
   "source": []
  }
 ],
 "metadata": {
  "kernelspec": {
   "display_name": "Python 3 (ipykernel)",
   "language": "python",
   "name": "python3"
  },
  "language_info": {
   "codemirror_mode": {
    "name": "ipython",
    "version": 3
   },
   "file_extension": ".py",
   "mimetype": "text/x-python",
   "name": "python",
   "nbconvert_exporter": "python",
   "pygments_lexer": "ipython3",
   "version": "3.9.7"
  },
  "latex_envs": {
   "LaTeX_envs_menu_present": true,
   "autoclose": false,
   "autocomplete": true,
   "bibliofile": "biblio.bib",
   "cite_by": "apalike",
   "current_citInitial": 1,
   "eqLabelWithNumbers": true,
   "eqNumInitial": 1,
   "hotkeys": {
    "equation": "Ctrl-E",
    "itemize": "Ctrl-I"
   },
   "labels_anchors": false,
   "latex_user_defs": false,
   "report_style_numbering": false,
   "user_envs_cfg": false
  }
 },
 "nbformat": 4,
 "nbformat_minor": 2
}
